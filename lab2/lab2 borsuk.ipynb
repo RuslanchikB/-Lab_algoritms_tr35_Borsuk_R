{
 "cells": [
  {
   "cell_type": "code",
   "execution_count": 18,
   "id": "bc1dda08",
   "metadata": {
    "scrolled": false
   },
   "outputs": [
    {
     "name": "stderr",
     "output_type": "stream",
     "text": [
      "No handles with labels found to put in legend.\n"
     ]
    },
    {
     "name": "stdout",
     "output_type": "stream",
     "text": [
      "Average time =  0.001828125\n"
     ]
    },
    {
     "data": {
      "text/plain": [
       "<matplotlib.legend.Legend at 0x21002418a30>"
      ]
     },
     "execution_count": 18,
     "metadata": {},
     "output_type": "execute_result"
    },
    {
     "data": {
      "image/png": "[encoded data removed]",
      "text/plain": [
       "<Figure size 432x288 with 1 Axes>"
      ]
     },
     "metadata": {
      "needs_background": "light"
     },
     "output_type": "display_data"
    }
   ],
   "source": [
    "import numpy as np\n",
    "from time import process_time \n",
    "import copy\n",
    "import random\n",
    "import time\n",
    "import matplotlib.pyplot as plt\n",
    "\n",
    "\n",
    "\n",
    "\n",
    "x = np.arange(1,100001,1)\n",
    "y=[]\n",
    "y= list(x)\n",
    "k=0\n",
    "T=50\n",
    "\n",
    "\n",
    "for i in range(1,1000):\n",
    "    start = process_time() #початок відліку\n",
    "    for n in x[:T]:\n",
    "        y.pop(T)\n",
    "    stop = process_time() #кінець відліку\n",
    "    k=k+stop-start\n",
    "    for n in x[:T]:\n",
    "        y.append(x)\n",
    "    \n",
    "\n",
    "\n",
    "    \n",
    "t=k/1000\n",
    "print(\"Average time = \", t)\n",
    "\n",
    "fig, ax = plt.subplots()  # Create a figure and an axes.\n",
    "ax.plot([50,100,500,1000,5000,10000], [0.001875,0.003625,0.0181875,0.037,0.169671875,0.31125])  # Plot some data on the (implicit) axes.\n",
    "ax.set_xlabel('Elements')\n",
    "ax.set_ylabel('Time, sec')\n",
    "ax.legend()\n",
    "\n"
   ]
  },
  {
   "cell_type": "code",
   "execution_count": null,
   "id": "7deb0091",
   "metadata": {},
   "outputs": [],
   "source": []
  },
  {
   "cell_type": "code",
   "execution_count": null,
   "id": "b70e9e35",
   "metadata": {},
   "outputs": [],
   "source": []
  },
  {
   "cell_type": "code",
   "execution_count": null,
   "id": "e0a2bccf",
   "metadata": {},
   "outputs": [],
   "source": []
  }
 ],
 "metadata": {
  "kernelspec": {
   "display_name": "Python 3",
   "language": "python",
   "name": "python3"
  },
  "language_info": {
   "codemirror_mode": {
    "name": "ipython",
    "version": 3
   },
   "file_extension": ".py",
   "mimetype": "text/x-python",
   "name": "python",
   "nbconvert_exporter": "python",
   "pygments_lexer": "ipython3",
   "version": "3.9.5"
  }
 },
 "nbformat": 4,
 "nbformat_minor": 5
}
